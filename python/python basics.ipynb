{
  "nbformat": 4,
  "nbformat_minor": 0,
  "metadata": {
    "colab": {
      "provenance": [],
      "authorship_tag": "ABX9TyPUsv9Te3B95AFBkmlZbDso",
      "include_colab_link": true
    },
    "kernelspec": {
      "name": "python3",
      "display_name": "Python 3"
    },
    "language_info": {
      "name": "python"
    }
  },
  "cells": [
    {
      "cell_type": "markdown",
      "metadata": {
        "id": "view-in-github",
        "colab_type": "text"
      },
      "source": [
        "<a href=\"https://colab.research.google.com/github/aswanpasha/Python/blob/main/python/python%20basics.ipynb\" target=\"_parent\"><img src=\"https://colab.research.google.com/assets/colab-badge.svg\" alt=\"Open In Colab\"/></a>"
      ]
    },
    {
      "cell_type": "markdown",
      "source": [
        "##Number"
      ],
      "metadata": {
        "id": "dKblEoLJYpdj"
      }
    },
    {
      "cell_type": "code",
      "execution_count": 1,
      "metadata": {
        "colab": {
          "base_uri": "https://localhost:8080/"
        },
        "id": "f-rnVuIEV_sN",
        "outputId": "e9df5e7e-a02e-444b-a7de-d8d8eb7c9f49"
      },
      "outputs": [
        {
          "output_type": "stream",
          "name": "stdout",
          "text": [
            "Hello Aswan\n"
          ]
        }
      ],
      "source": [
        "print('Hello Aswan')"
      ]
    },
    {
      "cell_type": "code",
      "source": [
        "Num2 = (62-5*6)/4\n",
        "print(Num2)\n",
        "print(type(Num2))"
      ],
      "metadata": {
        "colab": {
          "base_uri": "https://localhost:8080/"
        },
        "id": "5bwiX6d8W_l1",
        "outputId": "0a0b8fd9-8279-43c0-9310-d81cfbb3ff09"
      },
      "execution_count": 2,
      "outputs": [
        {
          "output_type": "stream",
          "name": "stdout",
          "text": [
            "8.0\n",
            "<class 'float'>\n"
          ]
        }
      ]
    },
    {
      "cell_type": "code",
      "source": [
        "Num3 = 17//3\n",
        "Num4 = 17%3\n",
        "print(Num3)\n",
        "print(Num4)"
      ],
      "metadata": {
        "colab": {
          "base_uri": "https://localhost:8080/"
        },
        "id": "BH7wemh3XJ3b",
        "outputId": "d57c9e24-97eb-4a4e-f0f9-73855b551612"
      },
      "execution_count": 3,
      "outputs": [
        {
          "output_type": "stream",
          "name": "stdout",
          "text": [
            "5\n",
            "2\n"
          ]
        }
      ]
    },
    {
      "cell_type": "markdown",
      "source": [
        "#String"
      ],
      "metadata": {
        "id": "CkH1ZknCY20l"
      }
    },
    {
      "cell_type": "code",
      "source": [
        "String3 = 'First Line.\\nSecond Line.\\nthird line'\n",
        "print(String3)"
      ],
      "metadata": {
        "colab": {
          "base_uri": "https://localhost:8080/"
        },
        "id": "AfcIFHD5XV_b",
        "outputId": "08d9b6f7-873f-481f-ca86-c9550f67720a"
      },
      "execution_count": 5,
      "outputs": [
        {
          "output_type": "stream",
          "name": "stdout",
          "text": [
            "First Line.\n",
            "Second Line.\n",
            "third line\n"
          ]
        }
      ]
    },
    {
      "cell_type": "code",
      "source": [
        "Prifix = 'Py'\n",
        "String7 = Prifix + 'thoncode'\n",
        "print(String7)\n",
        "print(String7[2:7])\n",
        "len(String7)\n",
        "print(String7[2:7:4])"
      ],
      "metadata": {
        "colab": {
          "base_uri": "https://localhost:8080/"
        },
        "id": "cIM0l87NXiG7",
        "outputId": "1f64e3e9-a31a-44bd-c4dd-3c6ede715116"
      },
      "execution_count": 11,
      "outputs": [
        {
          "output_type": "stream",
          "name": "stdout",
          "text": [
            "Pythoncode\n",
            "thonc\n",
            "tc\n"
          ]
        }
      ]
    },
    {
      "cell_type": "markdown",
      "source": [
        "#Lists"
      ],
      "metadata": {
        "id": "vYjbp9bhY7BD"
      }
    },
    {
      "cell_type": "code",
      "source": [
        "Squares = [1, 4, 9, 16, 25]\n",
        "Squares.append(36)\n",
        "Squares.append(7**2)\n",
        "print(Squares)"
      ],
      "metadata": {
        "colab": {
          "base_uri": "https://localhost:8080/"
        },
        "id": "GCDAfh2EYITN",
        "outputId": "5195caf0-65e5-46aa-db5b-e3d4112eed07"
      },
      "execution_count": 12,
      "outputs": [
        {
          "output_type": "stream",
          "name": "stdout",
          "text": [
            "[1, 4, 9, 16, 25, 36, 49]\n"
          ]
        }
      ]
    },
    {
      "cell_type": "code",
      "source": [
        "Squares1 = [1,4,9,16,25,36,49]\n",
        "Squares1[2:5] = [64,81,100]\n",
        "print(Squares1)"
      ],
      "metadata": {
        "colab": {
          "base_uri": "https://localhost:8080/"
        },
        "id": "ZodxPj3OZK0I",
        "outputId": "56cb37dc-0aa4-4f51-a121-ad00ef841ad4"
      },
      "execution_count": 13,
      "outputs": [
        {
          "output_type": "stream",
          "name": "stdout",
          "text": [
            "[1, 4, 64, 81, 100, 36, 49]\n"
          ]
        }
      ]
    },
    {
      "cell_type": "code",
      "source": [],
      "metadata": {
        "id": "o5D4oTyAZbie"
      },
      "execution_count": null,
      "outputs": []
    }
  ]
}